{
  "nbformat": 4,
  "nbformat_minor": 0,
  "metadata": {
    "colab": {
      "provenance": []
    },
    "kernelspec": {
      "name": "python3",
      "display_name": "Python 3"
    },
    "language_info": {
      "name": "python"
    }
  },
  "cells": [
    {
      "cell_type": "markdown",
      "source": [
        "## Imagine you are the boss of a casino.\n",
        "\n",
        "You are the boss. You have two machines, you have to design a multi-armed bandit.\n"
      ],
      "metadata": {
        "id": "l0gr4pBgphSk"
      }
    },
    {
      "cell_type": "code",
      "source": [
        "# use python library\n",
        "import numpy as np\n",
        "import time\n",
        "\n",
        "# one: win money \n",
        "arm0 = 0.2\n",
        "# another one: lose money \n",
        "arm1 = -0.2\n",
        "\n",
        "# return random rewards\n",
        "# draw random samples from a normal (Gaussian) distribution\n",
        "def reward_dist(a):\n",
        "  arms_true_value = [0.2, -0.2] # arm 0 and arm 1\n",
        "  arms_std_devs = [2., 2.]\n",
        "  return np.random.normal(arms_true_value[a], arms_std_devs[a])\n",
        "\n"
      ],
      "metadata": {
        "id": "MkK_b-KUoMQn"
      },
      "execution_count": 24,
      "outputs": []
    },
    {
      "cell_type": "markdown",
      "source": [
        "Testing: \n",
        "\n",
        "two players: Tim and Tony "
      ],
      "metadata": {
        "id": "ck2x29zSjy64"
      }
    },
    {
      "cell_type": "code",
      "source": [
        "tim_select_arm = 0\n",
        "\n",
        "reward = reward_dist(tim_select_arm)\n",
        "\n",
        "print(\"Tim\", reward)\n",
        "\n",
        "tony_select_arm = 1\n",
        "\n",
        "reward = reward_dist(tony_select_arm)\n",
        "\n",
        "print(\"Tony\", reward)\n",
        "\n",
        "tim_select_arm = 1\n",
        "\n",
        "reward = reward_dist(tim_select_arm)\n",
        "\n",
        "print(\"Tim\", reward)\n",
        "\n",
        "tony_select_arm = 0\n",
        "\n",
        "reward = reward_dist(tony_select_arm)\n",
        "\n",
        "print(\"Tony\", reward)"
      ],
      "metadata": {
        "id": "fxWxcwQwjyOE",
        "colab": {
          "base_uri": "https://localhost:8080/"
        },
        "outputId": "67009d7d-bb32-4e39-cdbb-50bfe9d3e560"
      },
      "execution_count": 25,
      "outputs": [
        {
          "output_type": "stream",
          "name": "stdout",
          "text": [
            "Tim -3.4343319601418374\n",
            "Tony -2.713153223270942\n",
            "Tim -0.6672332499125427\n",
            "Tony -0.16843453931324187\n"
          ]
        }
      ]
    },
    {
      "cell_type": "markdown",
      "source": [
        "## Now imagine that you are a player\n",
        "\n",
        "You will play 2 machines. What is your strategy?\n"
      ],
      "metadata": {
        "id": "0hMVruqas6an"
      }
    },
    {
      "cell_type": "markdown",
      "source": [
        "### Strategy 1: random"
      ],
      "metadata": {
        "id": "OypTECczl2Gh"
      }
    },
    {
      "cell_type": "code",
      "source": [
        "import numpy as np\n",
        "\n",
        "# the total number of arms\n",
        "num_arms = 2 \n",
        "\n",
        "# strategy - random\n",
        "def choose_arm(num_arms):\n",
        "  return np.random.randint(num_arms)\n",
        "\n",
        "# now you play 20 times\n",
        "total_t = 20\n",
        "for i in range(total_t):\n",
        "  chosen_arm = choose_arm(2)\n",
        "  print(chosen_arm)\n",
        "\n"
      ],
      "metadata": {
        "colab": {
          "base_uri": "https://localhost:8080/"
        },
        "id": "oXu5itG7s5lF",
        "outputId": "3bb80e25-6e58-4e34-cc1f-f38d79e636f5"
      },
      "execution_count": 26,
      "outputs": [
        {
          "output_type": "stream",
          "name": "stdout",
          "text": [
            "1\n",
            "1\n",
            "1\n",
            "1\n",
            "0\n",
            "0\n",
            "1\n",
            "1\n",
            "1\n",
            "1\n",
            "1\n",
            "0\n",
            "1\n",
            "1\n",
            "0\n",
            "0\n",
            "1\n",
            "0\n",
            "0\n",
            "0\n"
          ]
        }
      ]
    },
    {
      "cell_type": "code",
      "source": [
        "# arms\n",
        "arms = [arm0,arm1]\n",
        "\n",
        "# rewards_collected[0] for arm0, rewards_collected[1] for arm1 \n",
        "rewards_collected = [[],[]]\n",
        "\n",
        "# you play 10 times\n",
        "total_t = 10\n",
        "for i in range(total_t):\n",
        "  # use a random strategy\n",
        "  arm = choose_arm(2)\n",
        "\n",
        "  r = reward_dist(arm) # machine returns reward \n",
        "\n",
        "  print(\"Play_time_step\",i+1, \": choose arm\", arm, \", receive_reward\", r, \", (Hidden_arm_value\", arms[arm],\")\")\n",
        "\n",
        "  rewards_collected[arm].append(r)\n",
        "  time.sleep(2)\n",
        "\n",
        "# sum of rewards for arm0, sum of rewards for arm1\n",
        "print(\"arm 0:\", np.sum(rewards_collected[0]),\"arm 1:\", np.sum(rewards_collected[1]))"
      ],
      "metadata": {
        "colab": {
          "base_uri": "https://localhost:8080/"
        },
        "id": "I1clNV-ft-S0",
        "outputId": "fb4dc992-1da4-4f07-cf83-1f2cf723869e"
      },
      "execution_count": 28,
      "outputs": [
        {
          "output_type": "stream",
          "name": "stdout",
          "text": [
            "Play_time_step 1 : choose arm 1 , receive_reward 0.141207237933483 , (Hidden_arm_value -0.2 )\n",
            "Play_time_step 2 : choose arm 0 , receive_reward -1.767219119856674 , (Hidden_arm_value 0.2 )\n",
            "Play_time_step 3 : choose arm 1 , receive_reward 0.31038423146995525 , (Hidden_arm_value -0.2 )\n",
            "Play_time_step 4 : choose arm 1 , receive_reward -1.5348982884561002 , (Hidden_arm_value -0.2 )\n",
            "Play_time_step 5 : choose arm 0 , receive_reward 2.0165201456940265 , (Hidden_arm_value 0.2 )\n",
            "Play_time_step 6 : choose arm 0 , receive_reward 1.0069052184095857 , (Hidden_arm_value 0.2 )\n",
            "Play_time_step 7 : choose arm 1 , receive_reward 1.6419258254296332 , (Hidden_arm_value -0.2 )\n",
            "Play_time_step 8 : choose arm 0 , receive_reward 1.3909860149812903 , (Hidden_arm_value 0.2 )\n",
            "Play_time_step 9 : choose arm 1 , receive_reward -0.29137744120824416 , (Hidden_arm_value -0.2 )\n",
            "Play_time_step 10 : choose arm 0 , receive_reward 3.4490057522454913 , (Hidden_arm_value 0.2 )\n",
            "arm 0: 6.09619801147372 arm 1: 0.267241565168727\n"
          ]
        }
      ]
    },
    {
      "cell_type": "markdown",
      "source": [
        "### Strategy 2: greedy"
      ],
      "metadata": {
        "id": "YuECZDTtvlKt"
      }
    },
    {
      "cell_type": "code",
      "source": [
        "# number of arms\n",
        "num_arms = 2\n",
        "\n",
        "# record estimated values for each arm\n",
        "estimated_values = np.zeros(num_arms)\n",
        "print(\"Init:\", estimated_values[0], estimated_values[1])\n",
        "\n",
        "# record numbers of pulls or plays for each arm\n",
        "num_pulls = np.zeros(num_arms)\n",
        "print(\"Init:\",  num_pulls[0], num_pulls[1])\n",
        "\n",
        "# greedy: alway choose the current best, i.e. using argmax\n",
        "def choose_arm_by_greedy(estimated_values):\n",
        "  return np.argmax(estimated_values)\n",
        "\n",
        "rewards_collected = [[0], [0]]\n",
        "timestep_collected = [[0], [0]]\n",
        "\n",
        "# play total_t rounds\n",
        "total_t = 10\n",
        "for i in range(total_t):\n",
        "  # use greedy strategy\n",
        "  arm = choose_arm_by_greedy(estimated_values)\n",
        "\n",
        "  reward = reward_dist(arm) # machine from casino\n",
        "\n",
        "  num_pulls[arm] += 1\n",
        "\n",
        "  pre_estimated_value = estimated_values[arm]\n",
        "\n",
        "  diff = reward - pre_estimated_value\n",
        "\n",
        "  estimated_values[arm] = estimated_values[arm] + diff / num_pulls[arm]\n",
        "\n",
        "  print(\"Play_time_step\",i+1, \": choose arm\", arm, \", receive_reward\", reward, \", (Hidden_true_value\", arms[arm],\")\")\n",
        "  print(\" --Previous estimated value\", pre_estimated_value, \"received_reward\", reward, \"difference between the recieved reward and the previous (old) estimated_values\", diff, \"-> Updated estimated_values\", estimated_values[arm])\n",
        "  rewards_collected[arm].append(reward)\n",
        "  timestep_collected[arm].append(i+1)\n",
        "  time.sleep(2)\n",
        "\n",
        "print(\"arm 0\", rewards_collected[0], np.sum(rewards_collected[0]))\n",
        "print(\"arm 1\", rewards_collected[1], np.sum(rewards_collected[1]))\n",
        "print(\"Total\", np.sum(np.sum(rewards_collected)))\n",
        "\n"
      ],
      "metadata": {
        "colab": {
          "base_uri": "https://localhost:8080/"
        },
        "id": "cgE-_BgTty95",
        "outputId": "22f39776-d9a6-4000-eb12-b5a8ed47febd"
      },
      "execution_count": 37,
      "outputs": [
        {
          "output_type": "stream",
          "name": "stdout",
          "text": [
            "Init: 0.0 0.0\n",
            "Init: 0.0 0.0\n",
            "Play_time_step 1 : choose arm 0 , receive_reward -1.1960234498659568 , (Hidden_true_value 0.2 )\n",
            " --Previous estimated value 0.0 received_reward -1.1960234498659568 difference between the recieved reward and the previous (old) estimated_values -1.1960234498659568 -> Updated estimated_values -1.1960234498659568\n",
            "Play_time_step 2 : choose arm 1 , receive_reward 2.202760417027768 , (Hidden_true_value -0.2 )\n",
            " --Previous estimated value 0.0 received_reward 2.202760417027768 difference between the recieved reward and the previous (old) estimated_values 2.202760417027768 -> Updated estimated_values 2.202760417027768\n",
            "Play_time_step 3 : choose arm 1 , receive_reward 0.006704618366169202 , (Hidden_true_value -0.2 )\n",
            " --Previous estimated value 2.202760417027768 received_reward 0.006704618366169202 difference between the recieved reward and the previous (old) estimated_values -2.1960557986615985 -> Updated estimated_values 1.1047325176969687\n",
            "Play_time_step 4 : choose arm 1 , receive_reward -1.697942604679798 , (Hidden_true_value -0.2 )\n",
            " --Previous estimated value 1.1047325176969687 received_reward -1.697942604679798 difference between the recieved reward and the previous (old) estimated_values -2.8026751223767667 -> Updated estimated_values 0.17050747690471313\n",
            "Play_time_step 5 : choose arm 1 , receive_reward 1.5584045737181706 , (Hidden_true_value -0.2 )\n",
            " --Previous estimated value 0.17050747690471313 received_reward 1.5584045737181706 difference between the recieved reward and the previous (old) estimated_values 1.3878970968134574 -> Updated estimated_values 0.5174817511080775\n",
            "Play_time_step 6 : choose arm 1 , receive_reward -2.0645601521379984 , (Hidden_true_value -0.2 )\n",
            " --Previous estimated value 0.5174817511080775 received_reward -2.0645601521379984 difference between the recieved reward and the previous (old) estimated_values -2.582041903246076 -> Updated estimated_values 0.001073370458862244\n",
            "Play_time_step 7 : choose arm 1 , receive_reward -0.5557705237357895 , (Hidden_true_value -0.2 )\n",
            " --Previous estimated value 0.001073370458862244 received_reward -0.5557705237357895 difference between the recieved reward and the previous (old) estimated_values -0.5568438941946517 -> Updated estimated_values -0.09173394524024638\n",
            "Play_time_step 8 : choose arm 1 , receive_reward -2.104657227256205 , (Hidden_true_value -0.2 )\n",
            " --Previous estimated value -0.09173394524024638 received_reward -2.104657227256205 difference between the recieved reward and the previous (old) estimated_values -2.0129232820159584 -> Updated estimated_values -0.37929441409966896\n",
            "Play_time_step 9 : choose arm 1 , receive_reward -0.37645993570988295 , (Hidden_true_value -0.2 )\n",
            " --Previous estimated value -0.37929441409966896 received_reward -0.37645993570988295 difference between the recieved reward and the previous (old) estimated_values 0.0028344783897860104 -> Updated estimated_values -0.3789401043009457\n",
            "Play_time_step 10 : choose arm 1 , receive_reward -0.6012645928123734 , (Hidden_true_value -0.2 )\n",
            " --Previous estimated value -0.3789401043009457 received_reward -0.6012645928123734 difference between the recieved reward and the previous (old) estimated_values -0.22232448851142772 -> Updated estimated_values -0.4036428252466599\n",
            "arm 0 [0, -1.1960234498659568] -1.1960234498659568\n",
            "arm 1 [0, 2.202760417027768, 0.006704618366169202, -1.697942604679798, 1.5584045737181706, -2.0645601521379984, -0.5557705237357895, -2.104657227256205, -0.37645993570988295, -0.6012645928123734] -3.6327854272199396\n",
            "Total -4.828808877085896\n"
          ]
        }
      ]
    },
    {
      "cell_type": "markdown",
      "source": [
        "Plot figures"
      ],
      "metadata": {
        "id": "_3S6uF1SsOj_"
      }
    },
    {
      "cell_type": "code",
      "source": [
        "import matplotlib.pyplot as plt\n",
        "\n",
        "ys = rewards_collected[0]\n",
        "x = timestep_collected[0]\n",
        "\n",
        "fig = plt.figure()\n",
        "ax1 = plt.subplot2grid((1, 2), (0, 0), rowspan=1, colspan=1)\n",
        "ax2 = plt.subplot2grid((1, 2), (0, 1), rowspan=1, colspan=1)\n",
        "\n",
        "ax1.plot(x, ys, '-')\n",
        "ax1.set_xticks(x) \n",
        "ax1.set_xticklabels(x, fontsize=12)\n",
        "\n",
        "ax1.set_title(\"Arm 0\")\n",
        "\n",
        "ys = rewards_collected[1]\n",
        "x = timestep_collected[1]\n",
        "ax2.plot(x, ys, '-')\n",
        "ax2.set_xticks(x) \n",
        "ax2.set_xticklabels(x, fontsize=12)\n",
        "\n",
        "ax2.set_title(\"Arm 1\")\n",
        "plt.tight_layout()\n",
        "plt.show()"
      ],
      "metadata": {
        "colab": {
          "base_uri": "https://localhost:8080/",
          "height": 297
        },
        "id": "WLFcslN_n2t1",
        "outputId": "e84237ec-66cf-49fa-f9ba-c8ce41f35906"
      },
      "execution_count": 38,
      "outputs": [
        {
          "output_type": "display_data",
          "data": {
            "text/plain": [
              "<Figure size 432x288 with 2 Axes>"
            ],
            "image/png": "[encoded data removed]"
          },
          "metadata": {
            "needs_background": "light"
          }
        }
      ]
    },
    {
      "cell_type": "markdown",
      "source": [],
      "metadata": {
        "id": "Wf3kDxPUpgMg"
      }
    },
    {
      "cell_type": "code",
      "source": [
        "# number of arms\n",
        "num_arms = 2\n",
        "\n",
        "# record estimated values for each arm\n",
        "estimated_values = np.zeros(num_arms)\n",
        "print(\"Init:\", estimated_values[0], estimated_values[1])\n",
        "\n",
        "# record numbers of pulls or plays for each arm\n",
        "num_pulls = np.zeros(num_arms)\n",
        "print(\"Init:\",  num_pulls[0], num_pulls[1])\n",
        "\n",
        "# e-greedy: \n",
        "# choose the current best, i.e. using argmax with probability 1-epsilon\n",
        "# choose a random arm with probability epsilon\n",
        "def choose_arm_by_egreedy(estimated_values, epsilon = 0.2):\n",
        "  if np.random.random() > epsilon: \n",
        "    return np.argmax(estimated_values) # exploitation\n",
        "  else:\n",
        "    return np.random.randint(num_arms) # exploration\n",
        "\n",
        "\n",
        "rewards_collected = [[0], [0]]\n",
        "timestep_collected = [[0], [0]]\n",
        "\n",
        "# play total_t rounds\n",
        "total_t = 10\n",
        "for i in range(total_t):\n",
        "  # use greedy strategy\n",
        "  arm = choose_arm_by_greedy(estimated_values)\n",
        "\n",
        "  reward = reward_dist(arm) # machine from casino\n",
        "\n",
        "  num_pulls[arm] += 1\n",
        "\n",
        "  pre_estimated_value = estimated_values[arm]\n",
        "\n",
        "  diff = reward - pre_estimated_value\n",
        "\n",
        "  estimated_values[arm] = estimated_values[arm] + diff / num_pulls[arm]\n",
        "\n",
        "  print(\"Play_time_step\",i+1, \": choose arm\", arm, \", receive_reward\", reward, \", (Hidden_true_value\", arms[arm],\")\")\n",
        "  print(\" --Previous estimated value\", pre_estimated_value, \"received_reward\", reward, \"difference between the recieved reward and the previous (old) estimated_values\", diff, \"-> Updated estimated_values\", estimated_values[arm])\n",
        "  rewards_collected[arm].append(reward)\n",
        "  timestep_collected[arm].append(i+1)\n",
        "  time.sleep(2)\n",
        "\n",
        "print(\"arm 0\", rewards_collected[0], np.sum(rewards_collected[0]))\n",
        "print(\"arm 1\", rewards_collected[1], np.sum(rewards_collected[1]))\n",
        "print(\"Total\", np.sum(np.sum(rewards_collected)))\n"
      ],
      "metadata": {
        "colab": {
          "base_uri": "https://localhost:8080/"
        },
        "id": "AEfG3QKsoycz",
        "outputId": "9c226fe3-e6d4-4879-9ea3-755e6f3146ee"
      },
      "execution_count": 40,
      "outputs": [
        {
          "output_type": "stream",
          "name": "stdout",
          "text": [
            "Init: 0.0 0.0\n",
            "Init: 0.0 0.0\n",
            "Play_time_step 1 : choose arm 0 , receive_reward 1.688440641273201 , (Hidden_true_value 0.2 )\n",
            " --Previous estimated value 0.0 received_reward 1.688440641273201 difference between the recieved reward and the previous (old) estimated_values 1.688440641273201 -> Updated estimated_values 1.688440641273201\n",
            "Play_time_step 2 : choose arm 0 , receive_reward -1.7618983664791734 , (Hidden_true_value 0.2 )\n",
            " --Previous estimated value 1.688440641273201 received_reward -1.7618983664791734 difference between the recieved reward and the previous (old) estimated_values -3.4503390077523743 -> Updated estimated_values -0.036728862602986245\n",
            "Play_time_step 3 : choose arm 1 , receive_reward 1.5381054162607013 , (Hidden_true_value -0.2 )\n",
            " --Previous estimated value 0.0 received_reward 1.5381054162607013 difference between the recieved reward and the previous (old) estimated_values 1.5381054162607013 -> Updated estimated_values 1.5381054162607013\n",
            "Play_time_step 4 : choose arm 1 , receive_reward -1.3354712526349355 , (Hidden_true_value -0.2 )\n",
            " --Previous estimated value 1.5381054162607013 received_reward -1.3354712526349355 difference between the recieved reward and the previous (old) estimated_values -2.8735766688956366 -> Updated estimated_values 0.10131708181288301\n",
            "Play_time_step 5 : choose arm 1 , receive_reward -0.431956171965693 , (Hidden_true_value -0.2 )\n",
            " --Previous estimated value 0.10131708181288301 received_reward -0.431956171965693 difference between the recieved reward and the previous (old) estimated_values -0.533273253778576 -> Updated estimated_values -0.07644066944664232\n",
            "Play_time_step 6 : choose arm 0 , receive_reward -0.7601581743510888 , (Hidden_true_value 0.2 )\n",
            " --Previous estimated value -0.036728862602986245 received_reward -0.7601581743510888 difference between the recieved reward and the previous (old) estimated_values -0.7234293117481025 -> Updated estimated_values -0.27787196651902046\n",
            "Play_time_step 7 : choose arm 1 , receive_reward -0.6384845497156955 , (Hidden_true_value -0.2 )\n",
            " --Previous estimated value -0.07644066944664232 received_reward -0.6384845497156955 difference between the recieved reward and the previous (old) estimated_values -0.5620438802690532 -> Updated estimated_values -0.21695163951390561\n",
            "Play_time_step 8 : choose arm 1 , receive_reward 0.2896732171311225 , (Hidden_true_value -0.2 )\n",
            " --Previous estimated value -0.21695163951390561 received_reward 0.2896732171311225 difference between the recieved reward and the previous (old) estimated_values 0.5066248566450281 -> Updated estimated_values -0.1156266681849\n",
            "Play_time_step 9 : choose arm 1 , receive_reward -1.0323675968120325 , (Hidden_true_value -0.2 )\n",
            " --Previous estimated value -0.1156266681849 received_reward -1.0323675968120325 difference between the recieved reward and the previous (old) estimated_values -0.9167409286271325 -> Updated estimated_values -0.26841682295608876\n",
            "Play_time_step 10 : choose arm 1 , receive_reward -0.5581053961422306 , (Hidden_true_value -0.2 )\n",
            " --Previous estimated value -0.26841682295608876 received_reward -0.5581053961422306 difference between the recieved reward and the previous (old) estimated_values -0.2896885731861419 -> Updated estimated_values -0.3098009048398233\n",
            "arm 0 [0, 1.688440641273201, -1.7618983664791734, -0.7601581743510888] -0.8336158995570613\n",
            "arm 1 [0, 1.5381054162607013, -1.3354712526349355, -0.431956171965693, -0.6384845497156955, 0.2896732171311225, -1.0323675968120325, -0.5581053961422306] -2.1686063338787633\n",
            "Total -3.002222233435825\n"
          ]
        }
      ]
    },
    {
      "cell_type": "markdown",
      "source": [
        "plot figures"
      ],
      "metadata": {
        "id": "7fX6QgnKsjHA"
      }
    },
    {
      "cell_type": "code",
      "source": [
        "import matplotlib.pyplot as plt\n",
        "\n",
        "ys = rewards_collected[0]\n",
        "x = timestep_collected[0]\n",
        "\n",
        "fig = plt.figure()\n",
        "ax1 = plt.subplot2grid((1, 2), (0, 0), rowspan=1, colspan=1)\n",
        "ax2 = plt.subplot2grid((1, 2), (0, 1), rowspan=1, colspan=1)\n",
        "\n",
        "ax1.plot(x, ys, '-')\n",
        "ax1.set_xticks(x) \n",
        "ax1.set_xticklabels(x, fontsize=12)\n",
        "\n",
        "ax1.set_title(\"Arm 0\")\n",
        "\n",
        "ys = rewards_collected[1]\n",
        "x = timestep_collected[1]\n",
        "ax2.plot(x, ys, '-')\n",
        "ax2.set_xticks(x) \n",
        "ax2.set_xticklabels(x, fontsize=12)\n",
        "\n",
        "ax2.set_title(\"Arm 1\")\n",
        "plt.tight_layout()\n",
        "plt.show()"
      ],
      "metadata": {
        "id": "to0YNaobobpq",
        "colab": {
          "base_uri": "https://localhost:8080/",
          "height": 297
        },
        "outputId": "1ea102c3-0a0c-493d-f22c-ef558c8a4f9b"
      },
      "execution_count": 41,
      "outputs": [
        {
          "output_type": "display_data",
          "data": {
            "text/plain": [
              "<Figure size 432x288 with 2 Axes>"
            ],
            "image/png": "[encoded data removed]"
          },
          "metadata": {
            "needs_background": "light"
          }
        }
      ]
    }
  ]
}